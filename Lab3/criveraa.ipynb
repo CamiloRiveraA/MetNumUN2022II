{
  "nbformat": 4,
  "nbformat_minor": 0,
  "metadata": {
    "colab": {
      "provenance": [],
      "authorship_tag": "ABX9TyOpNKUVxuPOY1FDivHI1mkm",
      "include_colab_link": true
    },
    "kernelspec": {
      "name": "python3",
      "display_name": "Python 3"
    },
    "language_info": {
      "name": "python"
    }
  },
  "cells": [
    {
      "cell_type": "markdown",
      "metadata": {
        "id": "view-in-github",
        "colab_type": "text"
      },
      "source": [
        "<a href=\"https://colab.research.google.com/github/CamiloRiveraA/MetNumUN2022II/blob/main/Lab3/criveraa.ipynb\" target=\"_parent\"><img src=\"https://colab.research.google.com/assets/colab-badge.svg\" alt=\"Open In Colab\"/></a>"
      ]
    },
    {
      "cell_type": "code",
      "execution_count": null,
      "metadata": {
        "id": "UWE6_0iNrJ1F"
      },
      "outputs": [],
      "source": []
    },
    {
      "cell_type": "markdown",
      "source": [
        "[certificate link 1](https://courses.cognitiveclass.ai/certificates/cc34b9a1e99b434c8e671ada8ca80704)\n"
      ],
      "metadata": {
        "id": "8GpeccykrKuv"
      }
    },
    {
      "cell_type": "markdown",
      "source": [
        "[certificate link 2](https://courses.cognitiveclass.ai/certificates/452646e8285947e6bd8c03ab01c50aab)"
      ],
      "metadata": {
        "id": "fPS1f56AyRIW"
      }
    },
    {
      "cell_type": "markdown",
      "source": [
        "[certificate link3](https://courses.cognitiveclass.ai/certificates/be24e443a79147969d2cd23459b17e5c)"
      ],
      "metadata": {
        "id": "wcXooE1g3j1u"
      }
    }
  ]
}