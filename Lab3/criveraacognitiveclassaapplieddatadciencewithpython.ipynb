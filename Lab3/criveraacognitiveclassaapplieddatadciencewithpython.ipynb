{
  "nbformat": 4,
  "nbformat_minor": 0,
  "metadata": {
    "colab": {
      "provenance": [],
      "authorship_tag": "ABX9TyPzmRreKSQWZJZEN67lEI9o",
      "include_colab_link": true
    },
    "kernelspec": {
      "name": "python3",
      "display_name": "Python 3"
    },
    "language_info": {
      "name": "python"
    }
  },
  "cells": [
    {
      "cell_type": "markdown",
      "metadata": {
        "id": "view-in-github",
        "colab_type": "text"
      },
      "source": [
        "<a href=\"https://colab.research.google.com/github/CamiloRiveraA/MetNumUN2022II/blob/main/Lab3/criveraacognitiveclassaapplieddatadciencewithpython.ipynb\" target=\"_parent\"><img src=\"https://colab.research.google.com/assets/colab-badge.svg\" alt=\"Open In Colab\"/></a>"
      ]
    },
    {
      "cell_type": "code",
      "execution_count": null,
      "metadata": {
        "id": "UWE6_0iNrJ1F"
      },
      "outputs": [],
      "source": []
    },
    {
      "cell_type": "markdown",
      "source": [
        "[certificate link 1](https://courses.cognitiveclass.ai/certificates/cc34b9a1e99b434c8e671ada8ca80704)\n"
      ],
      "metadata": {
        "id": "8GpeccykrKuv"
      }
    }
  ]
}